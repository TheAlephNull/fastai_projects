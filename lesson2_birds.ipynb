{
 "cells": [
  {
   "cell_type": "markdown",
   "id": "11ac11c6",
   "metadata": {},
   "source": [
    "# Lesson 2: Bird Recognition"
   ]
  },
  {
   "cell_type": "markdown",
   "id": "79806bb3",
   "metadata": {},
   "source": [
    "Following the fast.ai lesson 2 tutorial, I am attempting to recreate the bear recognition tool. Instead of using bears, I will be attempting to recognize birds using the same API Bing Search used previously."
   ]
  },
  {
   "cell_type": "markdown",
   "id": "acfcbd8f",
   "metadata": {},
   "source": [
    "## Objectives"
   ]
  },
  {
   "cell_type": "markdown",
   "id": "65a63da1",
   "metadata": {},
   "source": [
    "* to become familiarized with Miniconda to manage environments, including basic command lines\n",
    "* familiarize myself with Github repositories and basic command lines\n",
    "* review important concepts discussed in lesson 2\n",
    "* begin working on projects to internalize important steps in data science methodologies"
   ]
  },
  {
   "cell_type": "markdown",
   "id": "d4df8652",
   "metadata": {},
   "source": [
    "# Start: Bird Reconition "
   ]
  },
  {
   "cell_type": "code",
   "execution_count": null,
   "id": "7dfb9487",
   "metadata": {},
   "outputs": [],
   "source": []
  }
 ],
 "metadata": {
  "kernelspec": {
   "display_name": "Python 3 (ipykernel)",
   "language": "python",
   "name": "python3"
  },
  "language_info": {
   "codemirror_mode": {
    "name": "ipython",
    "version": 3
   },
   "file_extension": ".py",
   "mimetype": "text/x-python",
   "name": "python",
   "nbconvert_exporter": "python",
   "pygments_lexer": "ipython3",
   "version": "3.9.7"
  }
 },
 "nbformat": 4,
 "nbformat_minor": 5
}
